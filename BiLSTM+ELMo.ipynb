{
 "cells": [
  {
   "cell_type": "markdown",
   "metadata": {
    "colab_type": "text",
    "id": "mA4rmpHAMn9v"
   },
   "source": [
    "# Base Imports :\n",
    "*   Import our dependencies\n",
    "*   Initialize session and make sure tensorflow doesn't hog all of the gpu for itself by setting the allow growth config\n",
    "\n",
    "\n"
   ]
  },
  {
   "cell_type": "code",
   "execution_count": 6,
   "metadata": {
    "colab": {
     "base_uri": "https://localhost:8080/",
     "height": 34
    },
    "colab_type": "code",
    "id": "4AjOITGzMrfG",
    "outputId": "6a1331a4-10e1-4b99-bf89-61ddbd84f566"
   },
   "outputs": [],
   "source": [
    "# Base Imports \n",
    "import json\n",
    "import pandas as pd\n",
    "from pprint import pprint\n",
    "import argparse\n",
    "import io\n",
    "import re\n",
    "import os\n",
    "from os import listdir\n",
    "from os.path import isfile, join\n",
    "# Import our dependencies\n",
    "import tensorflow as tf\n",
    "import pandas as pd\n",
    "import tensorflow_hub as hub\n",
    "from tensorflow.compat.v1.keras import backend as K\n",
    "import keras.layers as layers\n",
    "from keras.models import Model, load_model\n",
    "from keras.engine import Layer\n",
    "import numpy as np\n",
    "from sklearn.model_selection import train_test_split\n",
    "from keras.utils import multi_gpu_model\n",
    "import webbrowser\n",
    "# Initialize session and make sure tensorflow doesn't hog all of the gpu for itself by setting the allow growth config\n",
    "config = tf.ConfigProto()\n",
    "config.gpu_options.allow_growth=True\n",
    "sess = tf.Session(config=config)\n",
    "K.set_session(sess)"
   ]
  },
  {
   "cell_type": "markdown",
   "metadata": {
    "colab_type": "text",
    "id": "x6dFaChNNYkC"
   },
   "source": [
    "# Elmo Embedding:\n",
    "* Creating a method that loads the Elmo Embedding into our model\n",
    "\n",
    "[note: Look into Bert or XLnet as potential replacements for Elmo]"
   ]
  },
  {
   "cell_type": "code",
   "execution_count": 2,
   "metadata": {
    "colab": {},
    "colab_type": "code",
    "id": "6E39wL32NlWv"
   },
   "outputs": [],
   "source": [
    "class ElmoEmbeddingLayer(Layer):\n",
    "    def __init__(self, **kwargs):\n",
    "        self.dimensions = 1024\n",
    "        self.trainable=True\n",
    "        super(ElmoEmbeddingLayer, self).__init__(**kwargs)\n",
    "\n",
    "    def build(self, input_shape):\n",
    "        self.elmo = hub.Module('https://tfhub.dev/google/elmo/2', trainable=self.trainable,\n",
    "                               name=\"{}_module\".format(self.name))\n",
    "\n",
    "        self.trainable_weights += tf.trainable_variables(scope=\"^{}_module/.*\".format(self.name))\n",
    "        super(ElmoEmbeddingLayer, self).build(input_shape)\n",
    "\n",
    "    def call(self, x, mask=None):\n",
    "        result = self.elmo(K.squeeze(K.cast(x, tf.string), axis=1),\n",
    "                      as_dict=True,\n",
    "                      signature='default',\n",
    "                      )['default']\n",
    "        return result\n",
    "\n",
    "    def compute_mask(self, inputs, mask=None):\n",
    "        return K.not_equal(inputs, '--PAD--')\n",
    "\n",
    "    def compute_output_shape(self, input_shape):\n",
    "        return (input_shape[0], self.dimensions)\n"
   ]
  },
  {
   "cell_type": "code",
   "execution_count": 15,
   "metadata": {},
   "outputs": [],
   "source": [
    "class ElmoEmbeddingLayer(Layer):\n",
    "    def __init__(self, **kwargs):\n",
    "        self.dimensions = 1024\n",
    "        self.trainable=True\n",
    "        super(ElmoEmbeddingLayer, self).__init__(**kwargs)\n",
    "\n",
    "    def build(self, input_shape):\n",
    "        \n",
    "        self.elmo = hub.Module(\"https://tfhub.dev/google/elmo/3\", trainable=self.trainable,\n",
    "                               name=\"{}_module\".format(self.name))\n",
    "\n",
    "        self.trainable_weights += tf.trainable_variables(scope=\"^{}_module/.*\".format(self.name))\n",
    "        super(ElmoEmbeddingLayer, self).build(input_shape)\n",
    "\n",
    "    def call(self, x, mask=None):\n",
    "        result = self.elmo(K.reshape(K.cast(x, tf.string), [-1]), signature=\"default\", as_dict=True)[\"elmo\"]\n",
    "        return result\n",
    "\n",
    "    def compute_mask(self, inputs, mask=None):\n",
    "        return K.not_equal(inputs, '--PAD--')\n",
    "\n",
    "    def compute_output_shape(self, input_shape):\n",
    "        return (input_shape[0], None, self.dimensions)"
   ]
  },
  {
   "cell_type": "markdown",
   "metadata": {
    "colab_type": "text",
    "id": "JGlQjQlwOHiO"
   },
   "source": [
    "# Method() for building the model skeleton:\n",
    "* The model architecture is defined and the weights are initialized here\n",
    "*  Change pred layer to add or remove more classes (currently set to differentiate between 19 classes)\n"
   ]
  },
  {
   "cell_type": "code",
   "execution_count": 16,
   "metadata": {
    "colab": {},
    "colab_type": "code",
    "id": "JdaAIDtAOmTp"
   },
   "outputs": [],
   "source": [
    "# Function to build model\n",
    "# Can be tweaked based on size of dataset to prevent overfitting\n",
    "def build_model(): \n",
    "  input_text = layers.Input(shape=(1,), dtype=\"string\")\n",
    "  embedding = ElmoEmbeddingLayer()(input_text)\n",
    "  embedding = embedding+coord\n",
    "  print(embedding.shape)\n",
    "  BiLSTM = layers.Bidirectional(layers.LSTM(512, return_sequences= False, recurrent_dropout=0.2, dropout=0.2), name=\"BiLSTM\")(embedding)\n",
    "  dense1 = layers.Dense(512, activation='relu')(BiLSTM)\n",
    "  \n",
    "  dense2 = layers.Dense(256,activation=\"relu\")(dense1)\n",
    "  pred = layers.Dense(19, activation='softmax')(dense2)\n",
    "\n",
    "  model = Model(inputs=[input_text], outputs=pred)\n",
    "#   model = multi_gpu_model(base_model, gpus=4)\n",
    "  model.compile(loss='categorical_crossentropy', optimizer='adam', metrics=['accuracy'])\n",
    "  model.summary()\n",
    "  \n",
    "  return(model)"
   ]
  },
  {
   "cell_type": "code",
   "execution_count": 17,
   "metadata": {},
   "outputs": [
    {
     "name": "stdout",
     "output_type": "stream",
     "text": [
      "INFO:tensorflow:Saver not created because there are no variables in the graph to restore\n"
     ]
    },
    {
     "name": "stderr",
     "output_type": "stream",
     "text": [
      "INFO:tensorflow:Saver not created because there are no variables in the graph to restore\n"
     ]
    },
    {
     "name": "stdout",
     "output_type": "stream",
     "text": [
      "(?, ?, 1024)\n",
      "Model: \"model_3\"\n",
      "_________________________________________________________________\n",
      "Layer (type)                 Output Shape              Param #   \n",
      "=================================================================\n",
      "input_5 (InputLayer)         (None, 1)                 0         \n",
      "_________________________________________________________________\n",
      "elmo_embedding_layer_5 (Elmo (None, None, 1024)        4         \n",
      "_________________________________________________________________\n",
      "BiLSTM (Bidirectional)       (None, 1024)              6295552   \n",
      "_________________________________________________________________\n",
      "dense_7 (Dense)              (None, 512)               524800    \n",
      "_________________________________________________________________\n",
      "dense_8 (Dense)              (None, 256)               131328    \n",
      "_________________________________________________________________\n",
      "dense_9 (Dense)              (None, 19)                4883      \n",
      "=================================================================\n",
      "Total params: 6,956,567\n",
      "Trainable params: 6,956,567\n",
      "Non-trainable params: 0\n",
      "_________________________________________________________________\n"
     ]
    }
   ],
   "source": [
    "model = build_model()"
   ]
  },
  {
   "cell_type": "markdown",
   "metadata": {
    "colab_type": "text",
    "id": "fHl3028gtmUE"
   },
   "source": [
    "## Use the following code to load a pre-trained model directly into our model skeleton:\n",
    "\n",
    "```\n",
    "model=load_model(\"halfnonehalfsac.h5\", custom_objects={'ElmoEmbeddingLayer': ElmoEmbeddingLayer()})\n",
    "```\n",
    "\n"
   ]
  },
  {
   "cell_type": "markdown",
   "metadata": {
    "colab_type": "text",
    "id": "A-9bcQGst8PW"
   },
   "source": [
    "# Loading our  <u>*Labelled*</u> Dataset as a pandas dataframe:\n",
    "## Tips for labelling:\n",
    "* While labelling the dataset it is important preserve the input format of the ocr generated text Blocks .i.e They should not be automatically formatted(by excel)\n",
    "* (Recommended): Create a simple GUI to label faster.\n",
    "* (Alternative): if excel is used for labelling, refer to the following link to stop excel from autoformatting the dataset\n",
    "* https://help.aftership.com/hc/en-us/articles/115008353147-How-to-correctly-import-open-a-CSV-file-in-Excel-\n",
    "\n"
   ]
  },
  {
   "cell_type": "code",
   "execution_count": 26,
   "metadata": {
    "colab": {},
    "colab_type": "code",
    "id": "yoppXeZwN903"
   },
   "outputs": [],
   "source": [
    "#everything we've labelled so far\n",
    "df=pd.read_csv('C:\\\\Users\\\\sayee\\\\Python-ML(Udemy)\\\\NLP Research Paper\\\\Invoice_data_extraction\\\\labelled dataset\\\\SuperDuperClean6167dataset.csv')\n",
    "#Extra data extracted from the excel files given to us\n",
    "df1=pd.read_csv('C:\\\\Users\\\\sayee\\\\Python-ML(Udemy)\\\\NLP Research Paper\\\\Invoice_data_extraction\\\\labelled dataset\\\\extradataset.csv')\n",
    "df=df.append(df1, ignore_index=True)"
   ]
  },
  {
   "cell_type": "markdown",
   "metadata": {
    "colab_type": "text",
    "id": "f0xUTj6OutTk"
   },
   "source": [
    "## The more balanced the counts of the different classes are the better:\n",
    "* under representation is fine but over representation(example: none) should be avoided."
   ]
  },
  {
   "cell_type": "code",
   "execution_count": 31,
   "metadata": {
    "colab": {
     "base_uri": "https://localhost:8080/",
     "height": 353
    },
    "colab_type": "code",
    "id": "41C_BI8xuUGR",
    "outputId": "7c73e4cd-5b3f-4980-a748-489136c70645"
   },
   "outputs": [
    {
     "data": {
      "text/plain": [
       "none                 718\n",
       "address              701\n",
       "date                 551\n",
       "amount               370\n",
       "intents_VendorGST    364\n",
       "vendor_name          361\n",
       "sac                  326\n",
       "description          245\n",
       "total_amount         203\n",
       "ph_no                143\n",
       "quantity             107\n",
       "tax_amount            99\n",
       "tot_in_words          95\n",
       "intents_OrgGST        73\n",
       "tax_percent           71\n",
       "email                 62\n",
       "pan                   48\n",
       "bill_period           31\n",
       "cin                   27\n",
       "Name: label, dtype: int64"
      ]
     },
     "execution_count": 31,
     "metadata": {},
     "output_type": "execute_result"
    }
   ],
   "source": [
    "pd.Series(df.label).value_counts()"
   ]
  },
  {
   "cell_type": "code",
   "execution_count": 30,
   "metadata": {
    "colab": {},
    "colab_type": "code",
    "id": "DpMC7iOdwrXn"
   },
   "outputs": [],
   "source": [
    "#for removing half the none blocks\n",
    "#run this twice for nones alone\n",
    "j=0\n",
    "for index, row in df.iterrows():\n",
    "    if(row['label']=='sac'):\n",
    "        j=j+1\n",
    "        if j%2==0:\n",
    "            #print(j)\n",
    "            df.drop(index, inplace=True)"
   ]
  },
  {
   "cell_type": "code",
   "execution_count": 22,
   "metadata": {
    "colab": {
     "base_uri": "https://localhost:8080/",
     "height": 1000
    },
    "colab_type": "code",
    "id": "KUP8G1hZxClr",
    "outputId": "e3deba48-b180-423a-c4b6-f6059a642001"
   },
   "outputs": [
    {
     "data": {
      "text/html": [
       "<div>\n",
       "<style scoped>\n",
       "    .dataframe tbody tr th:only-of-type {\n",
       "        vertical-align: middle;\n",
       "    }\n",
       "\n",
       "    .dataframe tbody tr th {\n",
       "        vertical-align: top;\n",
       "    }\n",
       "\n",
       "    .dataframe thead th {\n",
       "        text-align: right;\n",
       "    }\n",
       "</style>\n",
       "<table border=\"1\" class=\"dataframe\">\n",
       "  <thead>\n",
       "    <tr style=\"text-align: right;\">\n",
       "      <th></th>\n",
       "      <th>Blocks</th>\n",
       "      <th>label</th>\n",
       "      <th>Source</th>\n",
       "    </tr>\n",
       "  </thead>\n",
       "  <tbody>\n",
       "    <tr>\n",
       "      <th>0</th>\n",
       "      <td>GST NO. 37AADCV9696D2ZQ</td>\n",
       "      <td>intents_VendorGST</td>\n",
       "      <td>219143549.pdf</td>\n",
       "    </tr>\n",
       "    <tr>\n",
       "      <th>1</th>\n",
       "      <td>t'ul Mag Gemoval</td>\n",
       "      <td>none</td>\n",
       "      <td>219143549.pdf</td>\n",
       "    </tr>\n",
       "    <tr>\n",
       "      <th>2</th>\n",
       "      <td>VASHANTH OUTDOOR MEDIA PVT. LTD.</td>\n",
       "      <td>vendor_name</td>\n",
       "      <td>219143549.pdf</td>\n",
       "    </tr>\n",
       "    <tr>\n",
       "      <th>3</th>\n",
       "      <td>· H.0: # 517, Industrial Estate, Renigunta Roa...</td>\n",
       "      <td>address</td>\n",
       "      <td>219143549.pdf</td>\n",
       "    </tr>\n",
       "    <tr>\n",
       "      <th>4</th>\n",
       "      <td>B.O : # 8/79/2, Joythi Enclaves, 2nd Floor, Op...</td>\n",
       "      <td>address</td>\n",
       "      <td>219143549.pdf</td>\n",
       "    </tr>\n",
       "    <tr>\n",
       "      <th>...</th>\n",
       "      <td>...</td>\n",
       "      <td>...</td>\n",
       "      <td>...</td>\n",
       "    </tr>\n",
       "    <tr>\n",
       "      <th>7067</th>\n",
       "      <td>32AABCB5576G5ZQ</td>\n",
       "      <td>intents_VendorGST</td>\n",
       "      <td>excel_file</td>\n",
       "    </tr>\n",
       "    <tr>\n",
       "      <th>7068</th>\n",
       "      <td>GSTIN/UIN: 27AAHCR5539F1Z6</td>\n",
       "      <td>intents_VendorGST</td>\n",
       "      <td>excel_file</td>\n",
       "    </tr>\n",
       "    <tr>\n",
       "      <th>7069</th>\n",
       "      <td>GST No: . *32AACFN1353M1ZF</td>\n",
       "      <td>intents_VendorGST</td>\n",
       "      <td>excel_file</td>\n",
       "    </tr>\n",
       "    <tr>\n",
       "      <th>7070</th>\n",
       "      <td>GST Number: 29AAJCS2290L1ZS</td>\n",
       "      <td>intents_VendorGST</td>\n",
       "      <td>excel_file</td>\n",
       "    </tr>\n",
       "    <tr>\n",
       "      <th>7071</th>\n",
       "      <td>GSTIN/UIN: 19AGQPP6671G1ZO</td>\n",
       "      <td>intents_VendorGST</td>\n",
       "      <td>excel_file</td>\n",
       "    </tr>\n",
       "  </tbody>\n",
       "</table>\n",
       "<p>4921 rows × 3 columns</p>\n",
       "</div>"
      ],
      "text/plain": [
       "                                                 Blocks              label  \\\n",
       "0                               GST NO. 37AADCV9696D2ZQ  intents_VendorGST   \n",
       "1                                      t'ul Mag Gemoval               none   \n",
       "2                      VASHANTH OUTDOOR MEDIA PVT. LTD.        vendor_name   \n",
       "3     · H.0: # 517, Industrial Estate, Renigunta Roa...            address   \n",
       "4     B.O : # 8/79/2, Joythi Enclaves, 2nd Floor, Op...            address   \n",
       "...                                                 ...                ...   \n",
       "7067                                    32AABCB5576G5ZQ  intents_VendorGST   \n",
       "7068                         GSTIN/UIN: 27AAHCR5539F1Z6  intents_VendorGST   \n",
       "7069                         GST No: . *32AACFN1353M1ZF  intents_VendorGST   \n",
       "7070                        GST Number: 29AAJCS2290L1ZS  intents_VendorGST   \n",
       "7071                         GSTIN/UIN: 19AGQPP6671G1ZO  intents_VendorGST   \n",
       "\n",
       "             Source  \n",
       "0     219143549.pdf  \n",
       "1     219143549.pdf  \n",
       "2     219143549.pdf  \n",
       "3     219143549.pdf  \n",
       "4     219143549.pdf  \n",
       "...             ...  \n",
       "7067     excel_file  \n",
       "7068     excel_file  \n",
       "7069     excel_file  \n",
       "7070     excel_file  \n",
       "7071     excel_file  \n",
       "\n",
       "[4921 rows x 3 columns]"
      ]
     },
     "execution_count": 22,
     "metadata": {},
     "output_type": "execute_result"
    }
   ],
   "source": [
    "df"
   ]
  },
  {
   "cell_type": "markdown",
   "metadata": {
    "colab_type": "text",
    "id": "DrA44soZw2Xy"
   },
   "source": [
    "# Preprocessing the dataframe to make it suitable for the ElmoEmbedding:\n",
    "* get_dummies function takes a single column and performs one-hot encoding on it.\n",
    "* Through experimentation it was found that converting everything to lowercase before training(or predicting) *generally* works better."
   ]
  },
  {
   "cell_type": "code",
   "execution_count": 32,
   "metadata": {
    "colab": {
     "base_uri": "https://localhost:8080/",
     "height": 316
    },
    "colab_type": "code",
    "id": "eJUJfuwzxFTe",
    "outputId": "f8fd728b-e421-4327-cdb2-38f25e55d95f"
   },
   "outputs": [
    {
     "data": {
      "text/html": [
       "<div>\n",
       "<style scoped>\n",
       "    .dataframe tbody tr th:only-of-type {\n",
       "        vertical-align: middle;\n",
       "    }\n",
       "\n",
       "    .dataframe tbody tr th {\n",
       "        vertical-align: top;\n",
       "    }\n",
       "\n",
       "    .dataframe thead th {\n",
       "        text-align: right;\n",
       "    }\n",
       "</style>\n",
       "<table border=\"1\" class=\"dataframe\">\n",
       "  <thead>\n",
       "    <tr style=\"text-align: right;\">\n",
       "      <th></th>\n",
       "      <th>Blocks</th>\n",
       "      <th>label_address</th>\n",
       "      <th>label_amount</th>\n",
       "      <th>label_bill_period</th>\n",
       "      <th>label_cin</th>\n",
       "      <th>label_date</th>\n",
       "      <th>label_description</th>\n",
       "      <th>label_email</th>\n",
       "      <th>label_intents_OrgGST</th>\n",
       "      <th>label_intents_VendorGST</th>\n",
       "      <th>label_none</th>\n",
       "      <th>label_pan</th>\n",
       "      <th>label_ph_no</th>\n",
       "      <th>label_quantity</th>\n",
       "      <th>label_sac</th>\n",
       "      <th>label_tax_amount</th>\n",
       "      <th>label_tax_percent</th>\n",
       "      <th>label_tot_in_words</th>\n",
       "      <th>label_total_amount</th>\n",
       "      <th>label_vendor_name</th>\n",
       "    </tr>\n",
       "  </thead>\n",
       "  <tbody>\n",
       "    <tr>\n",
       "      <th>4894</th>\n",
       "      <td>matri</td>\n",
       "      <td>0</td>\n",
       "      <td>0</td>\n",
       "      <td>0</td>\n",
       "      <td>0</td>\n",
       "      <td>0</td>\n",
       "      <td>0</td>\n",
       "      <td>0</td>\n",
       "      <td>0</td>\n",
       "      <td>0</td>\n",
       "      <td>1</td>\n",
       "      <td>0</td>\n",
       "      <td>0</td>\n",
       "      <td>0</td>\n",
       "      <td>0</td>\n",
       "      <td>0</td>\n",
       "      <td>0</td>\n",
       "      <td>0</td>\n",
       "      <td>0</td>\n",
       "      <td>0</td>\n",
       "    </tr>\n",
       "    <tr>\n",
       "      <th>3244</th>\n",
       "      <td>igst - rs. 1, 32, 975/.chq. no:...</td>\n",
       "      <td>0</td>\n",
       "      <td>0</td>\n",
       "      <td>0</td>\n",
       "      <td>0</td>\n",
       "      <td>0</td>\n",
       "      <td>0</td>\n",
       "      <td>0</td>\n",
       "      <td>0</td>\n",
       "      <td>0</td>\n",
       "      <td>0</td>\n",
       "      <td>0</td>\n",
       "      <td>0</td>\n",
       "      <td>0</td>\n",
       "      <td>0</td>\n",
       "      <td>1</td>\n",
       "      <td>0</td>\n",
       "      <td>0</td>\n",
       "      <td>0</td>\n",
       "      <td>0</td>\n",
       "    </tr>\n",
       "    <tr>\n",
       "      <th>3816</th>\n",
       "      <td>1.0tr</td>\n",
       "      <td>0</td>\n",
       "      <td>0</td>\n",
       "      <td>0</td>\n",
       "      <td>0</td>\n",
       "      <td>0</td>\n",
       "      <td>1</td>\n",
       "      <td>0</td>\n",
       "      <td>0</td>\n",
       "      <td>0</td>\n",
       "      <td>0</td>\n",
       "      <td>0</td>\n",
       "      <td>0</td>\n",
       "      <td>0</td>\n",
       "      <td>0</td>\n",
       "      <td>0</td>\n",
       "      <td>0</td>\n",
       "      <td>0</td>\n",
       "      <td>0</td>\n",
       "      <td>0</td>\n",
       "    </tr>\n",
       "    <tr>\n",
       "      <th>4160</th>\n",
       "      <td>pan no : aauph1878d</td>\n",
       "      <td>0</td>\n",
       "      <td>0</td>\n",
       "      <td>0</td>\n",
       "      <td>0</td>\n",
       "      <td>0</td>\n",
       "      <td>0</td>\n",
       "      <td>0</td>\n",
       "      <td>0</td>\n",
       "      <td>0</td>\n",
       "      <td>0</td>\n",
       "      <td>1</td>\n",
       "      <td>0</td>\n",
       "      <td>0</td>\n",
       "      <td>0</td>\n",
       "      <td>0</td>\n",
       "      <td>0</td>\n",
       "      <td>0</td>\n",
       "      <td>0</td>\n",
       "      <td>0</td>\n",
       "    </tr>\n",
       "    <tr>\n",
       "      <th>1809</th>\n",
       "      <td>12.98 dr</td>\n",
       "      <td>0</td>\n",
       "      <td>1</td>\n",
       "      <td>0</td>\n",
       "      <td>0</td>\n",
       "      <td>0</td>\n",
       "      <td>0</td>\n",
       "      <td>0</td>\n",
       "      <td>0</td>\n",
       "      <td>0</td>\n",
       "      <td>0</td>\n",
       "      <td>0</td>\n",
       "      <td>0</td>\n",
       "      <td>0</td>\n",
       "      <td>0</td>\n",
       "      <td>0</td>\n",
       "      <td>0</td>\n",
       "      <td>0</td>\n",
       "      <td>0</td>\n",
       "      <td>0</td>\n",
       "    </tr>\n",
       "  </tbody>\n",
       "</table>\n",
       "</div>"
      ],
      "text/plain": [
       "                                  Blocks  label_address  label_amount  \\\n",
       "4894                               matri              0             0   \n",
       "3244  igst - rs. 1, 32, 975/.chq. no:...              0             0   \n",
       "3816                               1.0tr              0             0   \n",
       "4160                 pan no : aauph1878d              0             0   \n",
       "1809                            12.98 dr              0             1   \n",
       "\n",
       "      label_bill_period  label_cin  label_date  label_description  \\\n",
       "4894                  0          0           0                  0   \n",
       "3244                  0          0           0                  0   \n",
       "3816                  0          0           0                  1   \n",
       "4160                  0          0           0                  0   \n",
       "1809                  0          0           0                  0   \n",
       "\n",
       "      label_email  label_intents_OrgGST  label_intents_VendorGST  label_none  \\\n",
       "4894            0                     0                        0           1   \n",
       "3244            0                     0                        0           0   \n",
       "3816            0                     0                        0           0   \n",
       "4160            0                     0                        0           0   \n",
       "1809            0                     0                        0           0   \n",
       "\n",
       "      label_pan  label_ph_no  label_quantity  label_sac  label_tax_amount  \\\n",
       "4894          0            0               0          0                 0   \n",
       "3244          0            0               0          0                 1   \n",
       "3816          0            0               0          0                 0   \n",
       "4160          1            0               0          0                 0   \n",
       "1809          0            0               0          0                 0   \n",
       "\n",
       "      label_tax_percent  label_tot_in_words  label_total_amount  \\\n",
       "4894                  0                   0                   0   \n",
       "3244                  0                   0                   0   \n",
       "3816                  0                   0                   0   \n",
       "4160                  0                   0                   0   \n",
       "1809                  0                   0                   0   \n",
       "\n",
       "      label_vendor_name  \n",
       "4894                  0  \n",
       "3244                  0  \n",
       "3816                  0  \n",
       "4160                  0  \n",
       "1809                  0  "
      ]
     },
     "execution_count": 32,
     "metadata": {},
     "output_type": "execute_result"
    }
   ],
   "source": [
    "tempdf1=df\n",
    "traindf=pd.get_dummies(df,columns=['label'])\n",
    "traindf=traindf.drop(['Source'],axis=1)\n",
    "traindf['Blocks']=traindf['Blocks'].str.lower()\n",
    "traindf.sample(5)"
   ]
  },
  {
   "cell_type": "code",
   "execution_count": 33,
   "metadata": {
    "colab": {},
    "colab_type": "code",
    "id": "2l2V4yueyKWD"
   },
   "outputs": [],
   "source": [
    "x = traindf[[\"Blocks\"]]\n",
    "y= traindf[['label_address', 'label_amount', 'label_bill_period',\n",
    "       'label_cin', 'label_date', 'label_description', 'label_email',\n",
    "       'label_intents_OrgGST', 'label_intents_VendorGST', 'label_none',\n",
    "       'label_pan', 'label_ph_no', 'label_quantity', 'label_sac',\n",
    "       'label_tax_amount', 'label_tax_percent', 'label_tot_in_words',\n",
    "       'label_total_amount', 'label_vendor_name']]"
   ]
  },
  {
   "cell_type": "markdown",
   "metadata": {
    "colab_type": "text",
    "id": "XL6g-B3dyPEj"
   },
   "source": [
    "## Splitting the dataset into train and test pairs:-"
   ]
  },
  {
   "cell_type": "code",
   "execution_count": 34,
   "metadata": {
    "colab": {},
    "colab_type": "code",
    "id": "eU8oDvIMyLRA"
   },
   "outputs": [],
   "source": [
    "x_train, x_test, y_train, y_test = train_test_split(    \n",
    "    x, y, test_size=0.15, random_state=420)"
   ]
  },
  {
   "cell_type": "markdown",
   "metadata": {
    "colab_type": "text",
    "id": "2RV9_b3xxJs-"
   },
   "source": [
    "# Building the model and training the network:\n",
    "* If the epochs size is too less then underfitting occurs, if there are too many epochs then the model gets overfit to the training data.(Both of which should be avoided)\n",
    "* The ideal number of epochs based on our observation is around 10."
   ]
  },
  {
   "cell_type": "code",
   "execution_count": 4,
   "metadata": {
    "colab": {
     "base_uri": "https://localhost:8080/",
     "height": 507
    },
    "colab_type": "code",
    "id": "-AllD0_2y-kp",
    "outputId": "4deb6130-0578-438d-ce43-3258e3f5a814"
   },
   "outputs": [
    {
     "ename": "NameError",
     "evalue": "name 'elmo' is not defined",
     "output_type": "error",
     "traceback": [
      "\u001b[1;31m---------------------------------------------------------------------------\u001b[0m",
      "\u001b[1;31mNameError\u001b[0m                                 Traceback (most recent call last)",
      "\u001b[1;32m<ipython-input-4-671884cecb64>\u001b[0m in \u001b[0;36m<module>\u001b[1;34m\u001b[0m\n\u001b[1;32m----> 1\u001b[1;33m \u001b[0mmodel\u001b[0m \u001b[1;33m=\u001b[0m \u001b[0mbuild_model\u001b[0m\u001b[1;33m(\u001b[0m\u001b[1;33m)\u001b[0m\u001b[1;33m\u001b[0m\u001b[1;33m\u001b[0m\u001b[0m\n\u001b[0m",
      "\u001b[1;32m<ipython-input-3-b8e59e6ce4d2>\u001b[0m in \u001b[0;36mbuild_model\u001b[1;34m()\u001b[0m\n\u001b[0;32m      3\u001b[0m \u001b[1;32mdef\u001b[0m \u001b[0mbuild_model\u001b[0m\u001b[1;33m(\u001b[0m\u001b[1;33m)\u001b[0m\u001b[1;33m:\u001b[0m\u001b[1;33m\u001b[0m\u001b[1;33m\u001b[0m\u001b[0m\n\u001b[0;32m      4\u001b[0m   \u001b[0minput_text\u001b[0m \u001b[1;33m=\u001b[0m \u001b[0mlayers\u001b[0m\u001b[1;33m.\u001b[0m\u001b[0mInput\u001b[0m\u001b[1;33m(\u001b[0m\u001b[0mshape\u001b[0m\u001b[1;33m=\u001b[0m\u001b[1;33m(\u001b[0m\u001b[1;36m1\u001b[0m\u001b[1;33m,\u001b[0m\u001b[1;33m)\u001b[0m\u001b[1;33m,\u001b[0m \u001b[0mdtype\u001b[0m\u001b[1;33m=\u001b[0m\u001b[1;34m\"string\"\u001b[0m\u001b[1;33m)\u001b[0m\u001b[1;33m\u001b[0m\u001b[1;33m\u001b[0m\u001b[0m\n\u001b[1;32m----> 5\u001b[1;33m   \u001b[0membedding\u001b[0m \u001b[1;33m=\u001b[0m \u001b[0mElmoEmbeddingLayer\u001b[0m\u001b[1;33m(\u001b[0m\u001b[1;33m)\u001b[0m\u001b[1;33m(\u001b[0m\u001b[0minput_text\u001b[0m\u001b[1;33m)\u001b[0m\u001b[1;33m\u001b[0m\u001b[1;33m\u001b[0m\u001b[0m\n\u001b[0m\u001b[0;32m      6\u001b[0m   \u001b[0mdense1\u001b[0m \u001b[1;33m=\u001b[0m \u001b[0mlayers\u001b[0m\u001b[1;33m.\u001b[0m\u001b[0mDense\u001b[0m\u001b[1;33m(\u001b[0m\u001b[1;36m1024\u001b[0m\u001b[1;33m,\u001b[0m \u001b[0mactivation\u001b[0m\u001b[1;33m=\u001b[0m\u001b[1;34m'relu'\u001b[0m\u001b[1;33m)\u001b[0m\u001b[1;33m(\u001b[0m\u001b[0membedding\u001b[0m\u001b[1;33m)\u001b[0m\u001b[1;33m\u001b[0m\u001b[1;33m\u001b[0m\u001b[0m\n\u001b[0;32m      7\u001b[0m   \u001b[0mdense2\u001b[0m \u001b[1;33m=\u001b[0m \u001b[0mlayers\u001b[0m\u001b[1;33m.\u001b[0m\u001b[0mDense\u001b[0m\u001b[1;33m(\u001b[0m\u001b[1;36m256\u001b[0m\u001b[1;33m,\u001b[0m\u001b[0mactivation\u001b[0m\u001b[1;33m=\u001b[0m\u001b[1;34m\"relu\"\u001b[0m\u001b[1;33m)\u001b[0m\u001b[1;33m(\u001b[0m\u001b[0mdense1\u001b[0m\u001b[1;33m)\u001b[0m\u001b[1;33m\u001b[0m\u001b[1;33m\u001b[0m\u001b[0m\n",
      "\u001b[1;32m~\\anaconda3\\envs\\Reesearch paper\\lib\\site-packages\\keras\\engine\\base_layer.py\u001b[0m in \u001b[0;36m__call__\u001b[1;34m(self, inputs, **kwargs)\u001b[0m\n\u001b[0;32m    487\u001b[0m             \u001b[1;31m# Actually call the layer,\u001b[0m\u001b[1;33m\u001b[0m\u001b[1;33m\u001b[0m\u001b[1;33m\u001b[0m\u001b[0m\n\u001b[0;32m    488\u001b[0m             \u001b[1;31m# collecting output(s), mask(s), and shape(s).\u001b[0m\u001b[1;33m\u001b[0m\u001b[1;33m\u001b[0m\u001b[1;33m\u001b[0m\u001b[0m\n\u001b[1;32m--> 489\u001b[1;33m             \u001b[0moutput\u001b[0m \u001b[1;33m=\u001b[0m \u001b[0mself\u001b[0m\u001b[1;33m.\u001b[0m\u001b[0mcall\u001b[0m\u001b[1;33m(\u001b[0m\u001b[0minputs\u001b[0m\u001b[1;33m,\u001b[0m \u001b[1;33m**\u001b[0m\u001b[0mkwargs\u001b[0m\u001b[1;33m)\u001b[0m\u001b[1;33m\u001b[0m\u001b[1;33m\u001b[0m\u001b[0m\n\u001b[0m\u001b[0;32m    490\u001b[0m             \u001b[0moutput_mask\u001b[0m \u001b[1;33m=\u001b[0m \u001b[0mself\u001b[0m\u001b[1;33m.\u001b[0m\u001b[0mcompute_mask\u001b[0m\u001b[1;33m(\u001b[0m\u001b[0minputs\u001b[0m\u001b[1;33m,\u001b[0m \u001b[0mprevious_mask\u001b[0m\u001b[1;33m)\u001b[0m\u001b[1;33m\u001b[0m\u001b[1;33m\u001b[0m\u001b[0m\n\u001b[0;32m    491\u001b[0m \u001b[1;33m\u001b[0m\u001b[0m\n",
      "\u001b[1;32m<ipython-input-2-b846d606501c>\u001b[0m in \u001b[0;36mcall\u001b[1;34m(self, x, mask)\u001b[0m\n\u001b[0;32m     14\u001b[0m \u001b[1;33m\u001b[0m\u001b[0m\n\u001b[0;32m     15\u001b[0m     \u001b[1;32mdef\u001b[0m \u001b[0mcall\u001b[0m\u001b[1;33m(\u001b[0m\u001b[0mself\u001b[0m\u001b[1;33m,\u001b[0m \u001b[0mx\u001b[0m\u001b[1;33m,\u001b[0m \u001b[0mmask\u001b[0m\u001b[1;33m=\u001b[0m\u001b[1;32mNone\u001b[0m\u001b[1;33m)\u001b[0m\u001b[1;33m:\u001b[0m\u001b[1;33m\u001b[0m\u001b[1;33m\u001b[0m\u001b[0m\n\u001b[1;32m---> 16\u001b[1;33m         \u001b[0mresult\u001b[0m \u001b[1;33m=\u001b[0m \u001b[0melmo\u001b[0m\u001b[1;33m(\u001b[0m\u001b[0mk\u001b[0m\u001b[1;33m.\u001b[0m\u001b[0mreshape\u001b[0m\u001b[1;33m(\u001b[0m\u001b[0mk\u001b[0m\u001b[1;33m.\u001b[0m\u001b[0mcast\u001b[0m\u001b[1;33m(\u001b[0m\u001b[0mx\u001b[0m\u001b[1;33m,\u001b[0m \u001b[0mtf\u001b[0m\u001b[1;33m.\u001b[0m\u001b[0mstring\u001b[0m\u001b[1;33m)\u001b[0m\u001b[1;33m,\u001b[0m \u001b[1;33m[\u001b[0m\u001b[1;33m-\u001b[0m\u001b[1;36m1\u001b[0m\u001b[1;33m]\u001b[0m\u001b[1;33m)\u001b[0m\u001b[1;33m,\u001b[0m \u001b[0msignature\u001b[0m\u001b[1;33m=\u001b[0m\u001b[1;34m\"default\"\u001b[0m\u001b[1;33m,\u001b[0m \u001b[0mas_dict\u001b[0m\u001b[1;33m=\u001b[0m\u001b[1;32mTrue\u001b[0m\u001b[1;33m)\u001b[0m\u001b[1;33m[\u001b[0m\u001b[1;34m\"elmo\"\u001b[0m\u001b[1;33m]\u001b[0m\u001b[1;33m\u001b[0m\u001b[1;33m\u001b[0m\u001b[0m\n\u001b[0m\u001b[0;32m     17\u001b[0m         \u001b[1;32mreturn\u001b[0m \u001b[0mresult\u001b[0m\u001b[1;33m\u001b[0m\u001b[1;33m\u001b[0m\u001b[0m\n\u001b[0;32m     18\u001b[0m \u001b[1;33m\u001b[0m\u001b[0m\n",
      "\u001b[1;31mNameError\u001b[0m: name 'elmo' is not defined"
     ]
    }
   ],
   "source": [
    "model = build_model()"
   ]
  },
  {
   "cell_type": "code",
   "execution_count": 59,
   "metadata": {
    "colab": {
     "base_uri": "https://localhost:8080/",
     "height": 490
    },
    "colab_type": "code",
    "id": "MLoJTx_kzAzr",
    "outputId": "af23a2fa-ea77-49f1-8ff9-d6b799e36c86"
   },
   "outputs": [
    {
     "name": "stdout",
     "output_type": "stream",
     "text": [
      "Train on 3905 samples, validate on 690 samples\n",
      "Epoch 1/10\n",
      "3905/3905 [==============================] - 461s 118ms/step - loss: 1.3022 - accuracy: 0.5964 - val_loss: 0.8638 - val_accuracy: 0.7246\n",
      "Epoch 2/10\n",
      "3905/3905 [==============================] - 460s 118ms/step - loss: 0.7378 - accuracy: 0.7498 - val_loss: 0.7554 - val_accuracy: 0.7348\n",
      "Epoch 3/10\n",
      "3905/3905 [==============================] - 428s 110ms/step - loss: 0.5945 - accuracy: 0.7928 - val_loss: 0.8007 - val_accuracy: 0.7565\n",
      "Epoch 4/10\n",
      "3905/3905 [==============================] - 399s 102ms/step - loss: 0.4638 - accuracy: 0.8305 - val_loss: 0.6503 - val_accuracy: 0.8014\n",
      "Epoch 5/10\n",
      "3905/3905 [==============================] - 403s 103ms/step - loss: 0.3856 - accuracy: 0.8535 - val_loss: 0.6816 - val_accuracy: 0.8116\n",
      "Epoch 6/10\n",
      "3905/3905 [==============================] - 418s 107ms/step - loss: 0.3503 - accuracy: 0.8725 - val_loss: 0.6859 - val_accuracy: 0.7957\n",
      "Epoch 7/10\n",
      "3905/3905 [==============================] - 405s 104ms/step - loss: 0.3410 - accuracy: 0.8758 - val_loss: 0.7289 - val_accuracy: 0.7812\n",
      "Epoch 8/10\n",
      "3905/3905 [==============================] - 400s 103ms/step - loss: 0.2909 - accuracy: 0.8881 - val_loss: 0.8052 - val_accuracy: 0.7870\n",
      "Epoch 9/10\n",
      "3905/3905 [==============================] - 406s 104ms/step - loss: 0.2860 - accuracy: 0.8924 - val_loss: 0.8095 - val_accuracy: 0.7797\n",
      "Epoch 10/10\n",
      "3905/3905 [==============================] - 399s 102ms/step - loss: 0.3230 - accuracy: 0.8883 - val_loss: 0.7509 - val_accuracy: 0.8087\n"
     ]
    },
    {
     "data": {
      "text/plain": [
       "<keras.callbacks.callbacks.History at 0x28b4ded5b88>"
      ]
     },
     "execution_count": 59,
     "metadata": {},
     "output_type": "execute_result"
    }
   ],
   "source": [
    "# IMPORTANT : Change batch size to match how much memmory you have left on your GPU \n",
    "# I reccomend starting small and looking at how much of your GPU memmory is being used and scaling up from there\n",
    "# Change epochs based on size of dataset...Early stopping can be incorporated if you dont want to do that\n",
    "model.fit(x_train, \n",
    "          y_train,\n",
    "          validation_data=(x_test, y_test),\n",
    "          epochs=10,\n",
    "          batch_size=32)"
   ]
  },
  {
   "cell_type": "markdown",
   "metadata": {
    "colab_type": "text",
    "id": "zgr6pB6G0snk"
   },
   "source": [
    "## Saving all our hardwork:"
   ]
  },
  {
   "cell_type": "code",
   "execution_count": 0,
   "metadata": {
    "colab": {},
    "colab_type": "code",
    "id": "RtEHczR10sOm"
   },
   "outputs": [],
   "source": [
    "model.save('Enter_name_here.h5')"
   ]
  },
  {
   "cell_type": "markdown",
   "metadata": {
    "colab_type": "text",
    "id": "hlXwY7oE1Blv"
   },
   "source": [
    "# Testing how good our model is using a confusion matrix:"
   ]
  },
  {
   "cell_type": "markdown",
   "metadata": {
    "colab_type": "text",
    "id": "7TWfDpYM1_-8"
   },
   "source": [
    "* Predicting on the testing set"
   ]
  },
  {
   "cell_type": "code",
   "execution_count": 30,
   "metadata": {
    "colab": {
     "base_uri": "https://localhost:8080/",
     "height": 336
    },
    "colab_type": "code",
    "id": "WgfdmFKT1KdX",
    "outputId": "c5b9f9d1-4b46-4be1-bf74-5d88cb2374b6"
   },
   "outputs": [
    {
     "data": {
      "text/plain": [
       "{(1.506936e-08, 'label_bill_period'),\n",
       " (2.287204e-08, 'label_intents_OrgGST'),\n",
       " (2.514941e-08, 'label_tax_percent'),\n",
       " (5.54498e-08, 'label_tot_in_words'),\n",
       " (1.2215878e-07, 'label_intents_VendorGST'),\n",
       " (1.5556502e-07, 'label_cin'),\n",
       " (3.349164e-07, 'label_date'),\n",
       " (1.6750611e-06, 'label_quantity'),\n",
       " (2.9024002e-06, 'label_tax_amount'),\n",
       " (4.587066e-06, 'label_pan'),\n",
       " (5.2067176e-06, 'label_email'),\n",
       " (6.840551e-06, 'label_description'),\n",
       " (1.343092e-05, 'label_amount'),\n",
       " (2.8768229e-05, 'label_vendor_name'),\n",
       " (0.00014127791, 'label_total_amount'),\n",
       " (0.0001620946, 'label_sac'),\n",
       " (0.0006905488, 'label_none'),\n",
       " (0.0026651493, 'label_ph_no'),\n",
       " (0.9962769, 'label_address')}"
      ]
     },
     "execution_count": 30,
     "metadata": {},
     "output_type": "execute_result"
    }
   ],
   "source": [
    "a = model.predict(x_test)\n",
    "pred = np.argmax(a,axis=1)\n",
    "y_test2 = np.argmax(y_test.values.astype(np.float32),axis=1)\n",
    "strList = ['label_address', 'label_amount', 'label_bill_period',\n",
    "       'label_cin', 'label_date', 'label_description', 'label_email',\n",
    "        'label_intents_OrgGST', 'label_intents_VendorGST',\n",
    "       'label_none', 'label_pan', 'label_ph_no', 'label_quantity', 'label_sac',\n",
    "       'label_tax_amount', 'label_tax_percent', 'label_tot_in_words',\n",
    "       'label_total_amount', 'label_vendor_name']\n",
    "result=zip(a[0],strList)\n",
    "set(result)"
   ]
  },
  {
   "cell_type": "markdown",
   "metadata": {
    "colab_type": "text",
    "id": "aatODyq92IFa"
   },
   "source": [
    "* Plotting the confusion matrix"
   ]
  },
  {
   "cell_type": "code",
   "execution_count": 31,
   "metadata": {
    "colab": {
     "base_uri": "https://localhost:8080/",
     "height": 1000
    },
    "colab_type": "code",
    "id": "PI5jXeUn12df",
    "outputId": "eeae7f71-95e7-4932-b352-9e5a491e5488"
   },
   "outputs": [
    {
     "name": "stdout",
     "output_type": "stream",
     "text": [
      "Confusion matrix, without normalization\n",
      "[[ 88   1   0   1   0   1   1   0   0   6   1   0   0   2   0   0   0   0\n",
      "    2]\n",
      " [  0  58   0   0   0   0   0   0   0   0   0   0   0   0   0   0   0   3\n",
      "    0]\n",
      " [  0   0   2   0   1   0   0   0   0   0   0   0   0   0   0   0   0   0\n",
      "    0]\n",
      " [  0   0   0   4   0   0   0   0   0   0   0   1   0   0   0   0   0   0\n",
      "    0]\n",
      " [  0   2   0   0  67   0   0   0   0   3   0   1   0   0   0   0   0   0\n",
      "    0]\n",
      " [  0   0   0   0   0  28   0   0   0   9   0   0   0   0   0   1   0   0\n",
      "    1]\n",
      " [  0   0   0   0   0   0  12   0   0   0   0   0   0   0   0   0   0   0\n",
      "    0]\n",
      " [  0   0   0   0   0   0   0   7   6   0   0   0   0   0   0   0   0   0\n",
      "    0]\n",
      " [  1   0   0   1   0   0   0   0  61   0   0   0   0   0   0   0   0   0\n",
      "    0]\n",
      " [  6   2   0   0   0   7   0   0   1  85   0   3   0   1   0   1   0   0\n",
      "    3]\n",
      " [  1   0   0   0   0   0   0   0   0   1   8   0   0   0   0   0   0   0\n",
      "    0]\n",
      " [  0   0   0   0   0   0   0   0   0   0   0  25   0   0   0   0   0   0\n",
      "    0]\n",
      " [  0   4   0   0   0   0   0   0   0   1   0   0  12   0   0   0   0   0\n",
      "    0]\n",
      " [  0   0   0   0   0   0   0   0   0   0   0   2   0 105   0   0   0   0\n",
      "    0]\n",
      " [  0   6   0   0   0   0   0   0   0   0   0   0   0   0   2   0   0   0\n",
      "    0]\n",
      " [  1   0   0   0   0   0   0   0   0   1   0   0   0   0   0   7   0   0\n",
      "    0]\n",
      " [  0   0   0   0   0   0   0   0   0   0   0   0   0   0   0   0  15   0\n",
      "    0]\n",
      " [  0  14   0   0   0   0   0   0   0   0   0   0   0   0   0   0   0  12\n",
      "    0]\n",
      " [  8   0   0   0   0   0   1   0   0   6   1   0   0   0   0   1   0   0\n",
      "   24]]\n",
      "Normalized confusion matrix\n",
      "[[0.85 0.01 0.   0.01 0.   0.01 0.01 0.   0.   0.06 0.01 0.   0.   0.02\n",
      "  0.   0.   0.   0.   0.02]\n",
      " [0.   0.95 0.   0.   0.   0.   0.   0.   0.   0.   0.   0.   0.   0.\n",
      "  0.   0.   0.   0.05 0.  ]\n",
      " [0.   0.   0.67 0.   0.33 0.   0.   0.   0.   0.   0.   0.   0.   0.\n",
      "  0.   0.   0.   0.   0.  ]\n",
      " [0.   0.   0.   0.8  0.   0.   0.   0.   0.   0.   0.   0.2  0.   0.\n",
      "  0.   0.   0.   0.   0.  ]\n",
      " [0.   0.03 0.   0.   0.92 0.   0.   0.   0.   0.04 0.   0.01 0.   0.\n",
      "  0.   0.   0.   0.   0.  ]\n",
      " [0.   0.   0.   0.   0.   0.72 0.   0.   0.   0.23 0.   0.   0.   0.\n",
      "  0.   0.03 0.   0.   0.03]\n",
      " [0.   0.   0.   0.   0.   0.   1.   0.   0.   0.   0.   0.   0.   0.\n",
      "  0.   0.   0.   0.   0.  ]\n",
      " [0.   0.   0.   0.   0.   0.   0.   0.54 0.46 0.   0.   0.   0.   0.\n",
      "  0.   0.   0.   0.   0.  ]\n",
      " [0.02 0.   0.   0.02 0.   0.   0.   0.   0.97 0.   0.   0.   0.   0.\n",
      "  0.   0.   0.   0.   0.  ]\n",
      " [0.06 0.02 0.   0.   0.   0.06 0.   0.   0.01 0.78 0.   0.03 0.   0.01\n",
      "  0.   0.01 0.   0.   0.03]\n",
      " [0.1  0.   0.   0.   0.   0.   0.   0.   0.   0.1  0.8  0.   0.   0.\n",
      "  0.   0.   0.   0.   0.  ]\n",
      " [0.   0.   0.   0.   0.   0.   0.   0.   0.   0.   0.   1.   0.   0.\n",
      "  0.   0.   0.   0.   0.  ]\n",
      " [0.   0.24 0.   0.   0.   0.   0.   0.   0.   0.06 0.   0.   0.71 0.\n",
      "  0.   0.   0.   0.   0.  ]\n",
      " [0.   0.   0.   0.   0.   0.   0.   0.   0.   0.   0.   0.02 0.   0.98\n",
      "  0.   0.   0.   0.   0.  ]\n",
      " [0.   0.75 0.   0.   0.   0.   0.   0.   0.   0.   0.   0.   0.   0.\n",
      "  0.25 0.   0.   0.   0.  ]\n",
      " [0.11 0.   0.   0.   0.   0.   0.   0.   0.   0.11 0.   0.   0.   0.\n",
      "  0.   0.78 0.   0.   0.  ]\n",
      " [0.   0.   0.   0.   0.   0.   0.   0.   0.   0.   0.   0.   0.   0.\n",
      "  0.   0.   1.   0.   0.  ]\n",
      " [0.   0.54 0.   0.   0.   0.   0.   0.   0.   0.   0.   0.   0.   0.\n",
      "  0.   0.   0.   0.46 0.  ]\n",
      " [0.2  0.   0.   0.   0.   0.   0.02 0.   0.   0.15 0.02 0.   0.   0.\n",
      "  0.   0.02 0.   0.   0.59]]\n"
     ]
    },
    {
     "data": {
      "image/png": "[encoded data removed]",
      "text/plain": [
       "<Figure size 432x288 with 2 Axes>"
      ]
     },
     "metadata": {
      "needs_background": "light"
     },
     "output_type": "display_data"
    },
    {
     "data": {
      "image/png": "[encoded data removed]",
      "text/plain": [
       "<Figure size 432x288 with 2 Axes>"
      ]
     },
     "metadata": {
      "needs_background": "light"
     },
     "output_type": "display_data"
    }
   ],
   "source": [
    "import numpy as np\n",
    "import matplotlib.pyplot as plt\n",
    "from sklearn import svm, datasets\n",
    "from sklearn.metrics import confusion_matrix\n",
    "from sklearn import preprocessing\n",
    "%matplotlib inline\n",
    "def plot_confusion_matrix(cm, names, title='Confusion matrix', cmap=plt.cm.Blues):\n",
    "    plt.imshow(cm, interpolation='nearest', cmap=cmap)\n",
    "    plt.title(title)\n",
    "    plt.colorbar()\n",
    "    tick_marks = np.arange(len(names))\n",
    "    plt.xticks(tick_marks, names, rotation=45)\n",
    "    plt.yticks(tick_marks, names)\n",
    "    plt.tight_layout()\n",
    "    plt.ylabel('True label')\n",
    "    plt.xlabel('Predicted label')\n",
    "def encode_text_index(df, name):\n",
    "    le = preprocessing.LabelEncoder()\n",
    "    df[name] = le.fit_transform(df[name])\n",
    "    return le.classes_\n",
    "cm = confusion_matrix(y_test2, pred)\n",
    "np.set_printoptions(precision=2)\n",
    "print('Confusion matrix, without normalization')\n",
    "print(cm)\n",
    "plt.figure()\n",
    "intent = encode_text_index(df,'label')\n",
    "plot_confusion_matrix(cm, intent)\n",
    "\n",
    "# Normalize the confusion matrix by row (i.e by the number of samples\n",
    "# in each class)\n",
    "cm_normalized = cm.astype('float') / cm.sum(axis=1)[:, np.newaxis]\n",
    "print('Normalized confusion matrix')\n",
    "print(cm_normalized)\n",
    "plt.figure()\n",
    "plot_confusion_matrix(cm_normalized, intent, title='Normalized confusion matrix')\n",
    "\n",
    "plt.show()"
   ]
  },
  {
   "cell_type": "markdown",
   "metadata": {
    "colab_type": "text",
    "id": "C5t1upYA2WRF"
   },
   "source": [
    "## Manual Testing:"
   ]
  },
  {
   "cell_type": "code",
   "execution_count": 32,
   "metadata": {
    "colab": {
     "base_uri": "https://localhost:8080/",
     "height": 353
    },
    "colab_type": "code",
    "id": "I64a4Y6N2aZZ",
    "outputId": "22e5591f-9a9f-46a9-c1fd-d9c7a79e51f9"
   },
   "outputs": [
    {
     "name": "stdout",
     "output_type": "stream",
     "text": [
      "\n"
     ]
    },
    {
     "data": {
      "text/plain": [
       "{(0.047037806, 'label_intents_OrgGST'),\n",
       " (0.047480114, 'label_intents_VendorGST'),\n",
       " (0.047557805, 'label_cin'),\n",
       " (0.049352825, 'label_email'),\n",
       " (0.049364306, 'label_tax_amount'),\n",
       " (0.05031041, 'label_pan'),\n",
       " (0.050622817, 'label_quantity'),\n",
       " (0.051090218, 'label_bill_period'),\n",
       " (0.051244862, 'label_ph_no'),\n",
       " (0.051266406, 'label_sac'),\n",
       " (0.051505674, 'label_date'),\n",
       " (0.052163824, 'label_tot_in_words'),\n",
       " (0.054223053, 'label_vendor_name'),\n",
       " (0.054266155, 'label_total_amount'),\n",
       " (0.054552518, 'label_amount'),\n",
       " (0.05477128, 'label_tax_percent'),\n",
       " (0.057891723, 'label_address'),\n",
       " (0.06102875, 'label_description'),\n",
       " (0.06426945, 'label_none')}"
      ]
     },
     "execution_count": 32,
     "metadata": {},
     "output_type": "execute_result"
    }
   ],
   "source": [
    "import string \n",
    "b = input()\n",
    "b= b.lower()\n",
    "a=np.array([b])\n",
    "res = model.predict(a)\n",
    "strList = ['label_address', 'label_amount', 'label_bill_period',\n",
    "       'label_cin', 'label_date', 'label_description', 'label_email',\n",
    "        'label_intents_OrgGST', 'label_intents_VendorGST',\n",
    "       'label_none', 'label_pan', 'label_ph_no', 'label_quantity', 'label_sac',\n",
    "       'label_tax_amount', 'label_tax_percent', 'label_tot_in_words',\n",
    "       'label_total_amount', 'label_vendor_name']\n",
    "result = zip(res[0]\n",
    "             , strList)\n",
    "set(result)"
   ]
  },
  {
   "cell_type": "code",
   "execution_count": 39,
   "metadata": {
    "colab": {},
    "colab_type": "code",
    "id": "N4v8i8u4Em1U"
   },
   "outputs": [
    {
     "name": "stdout",
     "output_type": "stream",
     "text": [
      "              precision    recall  f1-score   support\n",
      "\n",
      "           0       0.84      0.85      0.85       103\n",
      "           1       0.67      0.95      0.78        61\n",
      "           2       1.00      0.67      0.80         3\n",
      "           3       0.67      0.80      0.73         5\n",
      "           4       0.99      0.92      0.95        73\n",
      "           5       0.78      0.72      0.75        39\n",
      "           6       0.86      1.00      0.92        12\n",
      "           7       1.00      0.54      0.70        13\n",
      "           8       0.90      0.97      0.93        63\n",
      "           9       0.76      0.78      0.77       109\n",
      "          10       0.80      0.80      0.80        10\n",
      "          11       0.78      1.00      0.88        25\n",
      "          12       1.00      0.71      0.83        17\n",
      "          13       0.97      0.98      0.98       107\n",
      "          14       1.00      0.25      0.40         8\n",
      "          15       0.70      0.78      0.74         9\n",
      "          16       1.00      1.00      1.00        15\n",
      "          17       0.80      0.46      0.59        26\n",
      "          18       0.80      0.59      0.68        41\n",
      "\n",
      "    accuracy                           0.84       739\n",
      "   macro avg       0.86      0.78      0.79       739\n",
      "weighted avg       0.85      0.84      0.84       739\n",
      "\n"
     ]
    }
   ],
   "source": [
    "from sklearn.metrics import classification_report\n",
    "print(classification_report(y_test2, pred))"
   ]
  },
  {
   "cell_type": "code",
   "execution_count": 61,
   "metadata": {},
   "outputs": [
    {
     "data": {
      "text/plain": [
       "<function tensorflow.python.framework.test_util.is_gpu_available(cuda_only=False, min_cuda_compute_capability=None)>"
      ]
     },
     "execution_count": 61,
     "metadata": {},
     "output_type": "execute_result"
    }
   ],
   "source": []
  },
  {
   "cell_type": "code",
   "execution_count": null,
   "metadata": {},
   "outputs": [],
   "source": []
  }
 ],
 "metadata": {
  "accelerator": "GPU",
  "colab": {
   "collapsed_sections": [],
   "name": "Training_the_model.ipynb",
   "provenance": [],
   "toc_visible": true,
   "version": "0.3.2"
  },
  "kernelspec": {
   "display_name": "Python 3",
   "language": "python",
   "name": "python3"
  },
  "language_info": {
   "codemirror_mode": {
    "name": "ipython",
    "version": 3
   },
   "file_extension": ".py",
   "mimetype": "text/x-python",
   "name": "python",
   "nbconvert_exporter": "python",
   "pygments_lexer": "ipython3",
   "version": "3.7.10"
  }
 },
 "nbformat": 4,
 "nbformat_minor": 1
}
